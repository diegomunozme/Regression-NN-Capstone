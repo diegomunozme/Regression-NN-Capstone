{
 "cells": [
  {
   "cell_type": "markdown",
   "metadata": {
    "colab_type": "text",
    "id": "jRfszdWa9sdm"
   },
   "source": [
    "Diego Munoz, capstone Final Project"
   ]
  },
  {
   "cell_type": "code",
   "execution_count": 35,
   "metadata": {
    "colab": {},
    "colab_type": "code",
    "id": "6UniwaeH0baV"
   },
   "outputs": [],
   "source": [
    "\n",
    "import pandas as pd\n",
    "import numpy as np\n",
    "import seaborn as sns\n",
    "import plotly as pl\n",
    "import sklearn"
   ]
  },
  {
   "cell_type": "markdown",
   "metadata": {
    "colab_type": "text",
    "id": "_ZFqQKgp95ou"
   },
   "source": [
    "Import the dataset, make sure there are not null or NA values"
   ]
  },
  {
   "cell_type": "code",
   "execution_count": 36,
   "metadata": {
    "colab": {},
    "colab_type": "code",
    "id": "h3QoBRGm0rvP"
   },
   "outputs": [],
   "source": [
    "concrete = pd.read_csv('concrete_data.csv')"
   ]
  },
  {
   "cell_type": "code",
   "execution_count": 37,
   "metadata": {
    "colab": {
     "base_uri": "https://localhost:8080/",
     "height": 204
    },
    "colab_type": "code",
    "id": "gwme8IAJ1QTS",
    "outputId": "0992d383-51ed-4a06-e0f6-3127976003a1"
   },
   "outputs": [
    {
     "data": {
      "text/html": [
       "<div>\n",
       "<style scoped>\n",
       "    .dataframe tbody tr th:only-of-type {\n",
       "        vertical-align: middle;\n",
       "    }\n",
       "\n",
       "    .dataframe tbody tr th {\n",
       "        vertical-align: top;\n",
       "    }\n",
       "\n",
       "    .dataframe thead th {\n",
       "        text-align: right;\n",
       "    }\n",
       "</style>\n",
       "<table border=\"1\" class=\"dataframe\">\n",
       "  <thead>\n",
       "    <tr style=\"text-align: right;\">\n",
       "      <th></th>\n",
       "      <th>Cement</th>\n",
       "      <th>Blast Furnace Slag</th>\n",
       "      <th>Fly Ash</th>\n",
       "      <th>Water</th>\n",
       "      <th>Superplasticizer</th>\n",
       "      <th>Coarse Aggregate</th>\n",
       "      <th>Fine Aggregate</th>\n",
       "      <th>Age</th>\n",
       "      <th>Strength</th>\n",
       "    </tr>\n",
       "  </thead>\n",
       "  <tbody>\n",
       "    <tr>\n",
       "      <th>0</th>\n",
       "      <td>540.0</td>\n",
       "      <td>0.0</td>\n",
       "      <td>0.0</td>\n",
       "      <td>162.0</td>\n",
       "      <td>2.5</td>\n",
       "      <td>1040.0</td>\n",
       "      <td>676.0</td>\n",
       "      <td>28</td>\n",
       "      <td>79.99</td>\n",
       "    </tr>\n",
       "    <tr>\n",
       "      <th>1</th>\n",
       "      <td>540.0</td>\n",
       "      <td>0.0</td>\n",
       "      <td>0.0</td>\n",
       "      <td>162.0</td>\n",
       "      <td>2.5</td>\n",
       "      <td>1055.0</td>\n",
       "      <td>676.0</td>\n",
       "      <td>28</td>\n",
       "      <td>61.89</td>\n",
       "    </tr>\n",
       "    <tr>\n",
       "      <th>2</th>\n",
       "      <td>332.5</td>\n",
       "      <td>142.5</td>\n",
       "      <td>0.0</td>\n",
       "      <td>228.0</td>\n",
       "      <td>0.0</td>\n",
       "      <td>932.0</td>\n",
       "      <td>594.0</td>\n",
       "      <td>270</td>\n",
       "      <td>40.27</td>\n",
       "    </tr>\n",
       "    <tr>\n",
       "      <th>3</th>\n",
       "      <td>332.5</td>\n",
       "      <td>142.5</td>\n",
       "      <td>0.0</td>\n",
       "      <td>228.0</td>\n",
       "      <td>0.0</td>\n",
       "      <td>932.0</td>\n",
       "      <td>594.0</td>\n",
       "      <td>365</td>\n",
       "      <td>41.05</td>\n",
       "    </tr>\n",
       "    <tr>\n",
       "      <th>4</th>\n",
       "      <td>198.6</td>\n",
       "      <td>132.4</td>\n",
       "      <td>0.0</td>\n",
       "      <td>192.0</td>\n",
       "      <td>0.0</td>\n",
       "      <td>978.4</td>\n",
       "      <td>825.5</td>\n",
       "      <td>360</td>\n",
       "      <td>44.30</td>\n",
       "    </tr>\n",
       "  </tbody>\n",
       "</table>\n",
       "</div>"
      ],
      "text/plain": [
       "   Cement  Blast Furnace Slag  Fly Ash  ...  Fine Aggregate  Age  Strength\n",
       "0   540.0                 0.0      0.0  ...           676.0   28     79.99\n",
       "1   540.0                 0.0      0.0  ...           676.0   28     61.89\n",
       "2   332.5               142.5      0.0  ...           594.0  270     40.27\n",
       "3   332.5               142.5      0.0  ...           594.0  365     41.05\n",
       "4   198.6               132.4      0.0  ...           825.5  360     44.30\n",
       "\n",
       "[5 rows x 9 columns]"
      ]
     },
     "execution_count": 37,
     "metadata": {
      "tags": []
     },
     "output_type": "execute_result"
    }
   ],
   "source": [
    "concrete.head()"
   ]
  },
  {
   "cell_type": "code",
   "execution_count": 38,
   "metadata": {
    "colab": {
     "base_uri": "https://localhost:8080/",
     "height": 34
    },
    "colab_type": "code",
    "id": "y2t77BW62ZIa",
    "outputId": "40076dc7-edf8-4462-8cea-6af935984ca0"
   },
   "outputs": [
    {
     "data": {
      "text/plain": [
       "(1030, 9)"
      ]
     },
     "execution_count": 38,
     "metadata": {
      "tags": []
     },
     "output_type": "execute_result"
    }
   ],
   "source": [
    "concrete.shape"
   ]
  },
  {
   "cell_type": "code",
   "execution_count": 39,
   "metadata": {
    "colab": {
     "base_uri": "https://localhost:8080/",
     "height": 187
    },
    "colab_type": "code",
    "id": "hQZn4L_v25DK",
    "outputId": "6c746419-53c6-4806-ff67-85ca8e669b22"
   },
   "outputs": [
    {
     "data": {
      "text/plain": [
       "Cement                0\n",
       "Blast Furnace Slag    0\n",
       "Fly Ash               0\n",
       "Water                 0\n",
       "Superplasticizer      0\n",
       "Coarse Aggregate      0\n",
       "Fine Aggregate        0\n",
       "Age                   0\n",
       "Strength              0\n",
       "dtype: int64"
      ]
     },
     "execution_count": 39,
     "metadata": {
      "tags": []
     },
     "output_type": "execute_result"
    }
   ],
   "source": [
    "concrete.isnull().sum()"
   ]
  },
  {
   "cell_type": "markdown",
   "metadata": {
    "colab_type": "text",
    "id": "myGf_qtp-EMK"
   },
   "source": [
    "- Seperating the columns into predictors and target values. The strength column will be the target predicted value while the remaining columns will be used to predict strength "
   ]
  },
  {
   "cell_type": "code",
   "execution_count": 40,
   "metadata": {
    "colab": {},
    "colab_type": "code",
    "id": "vDw2cFlX2kMv"
   },
   "outputs": [],
   "source": [
    "concrete_columns = concrete.columns\n",
    "predictors = concrete[concrete_columns[concrete_columns != 'Strength']] #the predictor columns are all columns except the strength columns\n",
    "target = concrete['Strength']\n"
   ]
  },
  {
   "cell_type": "code",
   "execution_count": 41,
   "metadata": {
    "colab": {
     "base_uri": "https://localhost:8080/",
     "height": 204
    },
    "colab_type": "code",
    "id": "h_Urygv_5qo_",
    "outputId": "41226c21-c98f-41e3-b7cb-b7202b63c813"
   },
   "outputs": [
    {
     "data": {
      "text/html": [
       "<div>\n",
       "<style scoped>\n",
       "    .dataframe tbody tr th:only-of-type {\n",
       "        vertical-align: middle;\n",
       "    }\n",
       "\n",
       "    .dataframe tbody tr th {\n",
       "        vertical-align: top;\n",
       "    }\n",
       "\n",
       "    .dataframe thead th {\n",
       "        text-align: right;\n",
       "    }\n",
       "</style>\n",
       "<table border=\"1\" class=\"dataframe\">\n",
       "  <thead>\n",
       "    <tr style=\"text-align: right;\">\n",
       "      <th></th>\n",
       "      <th>Cement</th>\n",
       "      <th>Blast Furnace Slag</th>\n",
       "      <th>Fly Ash</th>\n",
       "      <th>Water</th>\n",
       "      <th>Superplasticizer</th>\n",
       "      <th>Coarse Aggregate</th>\n",
       "      <th>Fine Aggregate</th>\n",
       "      <th>Age</th>\n",
       "    </tr>\n",
       "  </thead>\n",
       "  <tbody>\n",
       "    <tr>\n",
       "      <th>0</th>\n",
       "      <td>540.0</td>\n",
       "      <td>0.0</td>\n",
       "      <td>0.0</td>\n",
       "      <td>162.0</td>\n",
       "      <td>2.5</td>\n",
       "      <td>1040.0</td>\n",
       "      <td>676.0</td>\n",
       "      <td>28</td>\n",
       "    </tr>\n",
       "    <tr>\n",
       "      <th>1</th>\n",
       "      <td>540.0</td>\n",
       "      <td>0.0</td>\n",
       "      <td>0.0</td>\n",
       "      <td>162.0</td>\n",
       "      <td>2.5</td>\n",
       "      <td>1055.0</td>\n",
       "      <td>676.0</td>\n",
       "      <td>28</td>\n",
       "    </tr>\n",
       "    <tr>\n",
       "      <th>2</th>\n",
       "      <td>332.5</td>\n",
       "      <td>142.5</td>\n",
       "      <td>0.0</td>\n",
       "      <td>228.0</td>\n",
       "      <td>0.0</td>\n",
       "      <td>932.0</td>\n",
       "      <td>594.0</td>\n",
       "      <td>270</td>\n",
       "    </tr>\n",
       "    <tr>\n",
       "      <th>3</th>\n",
       "      <td>332.5</td>\n",
       "      <td>142.5</td>\n",
       "      <td>0.0</td>\n",
       "      <td>228.0</td>\n",
       "      <td>0.0</td>\n",
       "      <td>932.0</td>\n",
       "      <td>594.0</td>\n",
       "      <td>365</td>\n",
       "    </tr>\n",
       "    <tr>\n",
       "      <th>4</th>\n",
       "      <td>198.6</td>\n",
       "      <td>132.4</td>\n",
       "      <td>0.0</td>\n",
       "      <td>192.0</td>\n",
       "      <td>0.0</td>\n",
       "      <td>978.4</td>\n",
       "      <td>825.5</td>\n",
       "      <td>360</td>\n",
       "    </tr>\n",
       "  </tbody>\n",
       "</table>\n",
       "</div>"
      ],
      "text/plain": [
       "   Cement  Blast Furnace Slag  Fly Ash  ...  Coarse Aggregate  Fine Aggregate  Age\n",
       "0   540.0                 0.0      0.0  ...            1040.0           676.0   28\n",
       "1   540.0                 0.0      0.0  ...            1055.0           676.0   28\n",
       "2   332.5               142.5      0.0  ...             932.0           594.0  270\n",
       "3   332.5               142.5      0.0  ...             932.0           594.0  365\n",
       "4   198.6               132.4      0.0  ...             978.4           825.5  360\n",
       "\n",
       "[5 rows x 8 columns]"
      ]
     },
     "execution_count": 41,
     "metadata": {
      "tags": []
     },
     "output_type": "execute_result"
    }
   ],
   "source": [
    "# Awesome now lets quickly check the two dataframes to make sure everything makes sense\n",
    "predictors.head()"
   ]
  },
  {
   "cell_type": "code",
   "execution_count": 42,
   "metadata": {
    "colab": {
     "base_uri": "https://localhost:8080/",
     "height": 119
    },
    "colab_type": "code",
    "id": "tMzZYhp_50vV",
    "outputId": "3acc1cda-c26b-4ad4-a160-c7720a1a84a1"
   },
   "outputs": [
    {
     "data": {
      "text/plain": [
       "0    79.99\n",
       "1    61.89\n",
       "2    40.27\n",
       "3    41.05\n",
       "4    44.30\n",
       "Name: Strength, dtype: float64"
      ]
     },
     "execution_count": 42,
     "metadata": {
      "tags": []
     },
     "output_type": "execute_result"
    }
   ],
   "source": [
    "# Now lets check the target \n",
    "target.head()"
   ]
  },
  {
   "cell_type": "code",
   "execution_count": 43,
   "metadata": {
    "colab": {},
    "colab_type": "code",
    "id": "djZgGCfV6Y7j"
   },
   "outputs": [],
   "source": [
    "from sklearn import preprocessing"
   ]
  },
  {
   "cell_type": "code",
   "execution_count": 13,
   "metadata": {
    "colab": {},
    "colab_type": "code",
    "id": "4gVzwPGT6E2t"
   },
   "outputs": [],
   "source": [
    "# Preprocess the predictors before beginning any machine learning analysis SAVED THIS FOR PART 2 OF THE ASSIGNMENT\n",
    "#normalized_predictors = preprocessing.normalize(predictors)"
   ]
  },
  {
   "cell_type": "code",
   "execution_count": 44,
   "metadata": {
    "colab": {},
    "colab_type": "code",
    "id": "Eim_9LaY_o5o"
   },
   "outputs": [],
   "source": [
    "# Making the input column into a vector\n",
    "n_cols = predictors.shape[1]"
   ]
  },
  {
   "cell_type": "code",
   "execution_count": 45,
   "metadata": {
    "colab": {},
    "colab_type": "code",
    "id": "Q52N8W5N_8rm"
   },
   "outputs": [],
   "source": [
    "import keras"
   ]
  },
  {
   "cell_type": "code",
   "execution_count": 46,
   "metadata": {
    "colab": {},
    "colab_type": "code",
    "id": "e6ZROlWSAE02"
   },
   "outputs": [],
   "source": [
    "from keras.models import Sequential\n",
    "from keras.layers import Dense"
   ]
  },
  {
   "cell_type": "code",
   "execution_count": 55,
   "metadata": {
    "colab": {},
    "colab_type": "code",
    "id": "42DZuOutzEhI"
   },
   "outputs": [],
   "source": [
    "X_train, X_test, y_train, y_test = train_test_split(predictors, target, test_size=0.3, random_state=42)"
   ]
  },
  {
   "cell_type": "markdown",
   "metadata": {
    "colab_type": "text",
    "id": "Z_CuCc4ZoRIS"
   },
   "source": [
    "Beginning to create the Neural Network regression model"
   ]
  },
  {
   "cell_type": "code",
   "execution_count": 49,
   "metadata": {
    "colab": {},
    "colab_type": "code",
    "id": "UtZrv8R-AISf"
   },
   "outputs": [],
   "source": [
    "# define regression model\n",
    "def regression_model():\n",
    "    # create model\n",
    "    model = Sequential()\n",
    "    model.add(Dense(10, activation='relu', input_shape=(n_cols,)))\n",
    "    model.add(Dense(1))\n",
    "    \n",
    "    # compile model\n",
    "    model.compile(optimizer='adam', loss='mean_squared_error')\n",
    "    return model"
   ]
  },
  {
   "cell_type": "code",
   "execution_count": 50,
   "metadata": {
    "colab": {},
    "colab_type": "code",
    "id": "SKZRJMxcBNF-"
   },
   "outputs": [],
   "source": [
    "# build the model \n",
    "model = regression_model()"
   ]
  },
  {
   "cell_type": "code",
   "execution_count": 59,
   "metadata": {
    "colab": {
     "base_uri": "https://localhost:8080/",
     "height": 1000
    },
    "colab_type": "code",
    "id": "mT-eRPyHBmHy",
    "outputId": "d844e1da-6466-4a01-dc68-b8dc16ca4201"
   },
   "outputs": [
    {
     "name": "stdout",
     "output_type": "stream",
     "text": [
      "Epoch 1/50\n",
      "23/23 [==============================] - 0s 1ms/step - loss: 110.6755\n",
      "Epoch 2/50\n",
      "23/23 [==============================] - 0s 966us/step - loss: 109.4946\n",
      "Epoch 3/50\n",
      "23/23 [==============================] - 0s 893us/step - loss: 109.5442\n",
      "Epoch 4/50\n",
      "23/23 [==============================] - 0s 965us/step - loss: 109.8985\n",
      "Epoch 5/50\n",
      "23/23 [==============================] - 0s 912us/step - loss: 112.0646\n",
      "Epoch 6/50\n",
      "23/23 [==============================] - 0s 895us/step - loss: 109.3567\n",
      "Epoch 7/50\n",
      "23/23 [==============================] - 0s 915us/step - loss: 111.3460\n",
      "Epoch 8/50\n",
      "23/23 [==============================] - 0s 906us/step - loss: 110.2728\n",
      "Epoch 9/50\n",
      "23/23 [==============================] - 0s 919us/step - loss: 109.3328\n",
      "Epoch 10/50\n",
      "23/23 [==============================] - 0s 934us/step - loss: 109.1344\n",
      "Epoch 11/50\n",
      "23/23 [==============================] - 0s 938us/step - loss: 111.7576\n",
      "Epoch 12/50\n",
      "23/23 [==============================] - 0s 976us/step - loss: 110.2698\n",
      "Epoch 13/50\n",
      "23/23 [==============================] - 0s 1ms/step - loss: 109.4821\n",
      "Epoch 14/50\n",
      "23/23 [==============================] - 0s 1ms/step - loss: 108.9452\n",
      "Epoch 15/50\n",
      "23/23 [==============================] - 0s 1ms/step - loss: 110.8884\n",
      "Epoch 16/50\n",
      "23/23 [==============================] - 0s 1ms/step - loss: 109.1072\n",
      "Epoch 17/50\n",
      "23/23 [==============================] - 0s 1ms/step - loss: 110.9767\n",
      "Epoch 18/50\n",
      "23/23 [==============================] - 0s 986us/step - loss: 108.8961\n",
      "Epoch 19/50\n",
      "23/23 [==============================] - 0s 996us/step - loss: 110.0550\n",
      "Epoch 20/50\n",
      "23/23 [==============================] - 0s 952us/step - loss: 109.9489\n",
      "Epoch 21/50\n",
      "23/23 [==============================] - 0s 1ms/step - loss: 109.5561\n",
      "Epoch 22/50\n",
      "23/23 [==============================] - 0s 981us/step - loss: 108.4815\n",
      "Epoch 23/50\n",
      "23/23 [==============================] - 0s 931us/step - loss: 115.7104\n",
      "Epoch 24/50\n",
      "23/23 [==============================] - 0s 1ms/step - loss: 108.2092\n",
      "Epoch 25/50\n",
      "23/23 [==============================] - 0s 1ms/step - loss: 108.5845\n",
      "Epoch 26/50\n",
      "23/23 [==============================] - 0s 1ms/step - loss: 109.0925\n",
      "Epoch 27/50\n",
      "23/23 [==============================] - 0s 971us/step - loss: 109.8150\n",
      "Epoch 28/50\n",
      "23/23 [==============================] - 0s 950us/step - loss: 110.0084\n",
      "Epoch 29/50\n",
      "23/23 [==============================] - 0s 1ms/step - loss: 109.5492\n",
      "Epoch 30/50\n",
      "23/23 [==============================] - 0s 1ms/step - loss: 110.9727\n",
      "Epoch 31/50\n",
      "23/23 [==============================] - 0s 1ms/step - loss: 109.6476\n",
      "Epoch 32/50\n",
      "23/23 [==============================] - 0s 1ms/step - loss: 109.4976\n",
      "Epoch 33/50\n",
      "23/23 [==============================] - 0s 1ms/step - loss: 110.0843\n",
      "Epoch 34/50\n",
      "23/23 [==============================] - 0s 1ms/step - loss: 109.7106\n",
      "Epoch 35/50\n",
      "23/23 [==============================] - 0s 918us/step - loss: 108.7577\n",
      "Epoch 36/50\n",
      "23/23 [==============================] - 0s 1ms/step - loss: 109.6922\n",
      "Epoch 37/50\n",
      "23/23 [==============================] - 0s 992us/step - loss: 116.2932\n",
      "Epoch 38/50\n",
      "23/23 [==============================] - 0s 1ms/step - loss: 109.1450\n",
      "Epoch 39/50\n",
      "23/23 [==============================] - 0s 1ms/step - loss: 114.2013\n",
      "Epoch 40/50\n",
      "23/23 [==============================] - 0s 1ms/step - loss: 107.9832\n",
      "Epoch 41/50\n",
      "23/23 [==============================] - 0s 991us/step - loss: 109.6587\n",
      "Epoch 42/50\n",
      "23/23 [==============================] - 0s 1ms/step - loss: 108.8207\n",
      "Epoch 43/50\n",
      "23/23 [==============================] - 0s 955us/step - loss: 110.7909\n",
      "Epoch 44/50\n",
      "23/23 [==============================] - 0s 1ms/step - loss: 110.2208\n",
      "Epoch 45/50\n",
      "23/23 [==============================] - 0s 985us/step - loss: 111.1623\n",
      "Epoch 46/50\n",
      "23/23 [==============================] - 0s 1ms/step - loss: 109.5151\n",
      "Epoch 47/50\n",
      "23/23 [==============================] - 0s 992us/step - loss: 108.6876\n",
      "Epoch 48/50\n",
      "23/23 [==============================] - 0s 962us/step - loss: 109.5000\n",
      "Epoch 49/50\n",
      "23/23 [==============================] - 0s 951us/step - loss: 111.4962\n",
      "Epoch 50/50\n",
      "23/23 [==============================] - 0s 956us/step - loss: 109.7205\n"
     ]
    },
    {
     "data": {
      "text/plain": [
       "<tensorflow.python.keras.callbacks.History at 0x7f3b05b095c0>"
      ]
     },
     "execution_count": 59,
     "metadata": {
      "tags": []
     },
     "output_type": "execute_result"
    }
   ],
   "source": [
    "# fit the model\n",
    "model.fit(X_train, y_train, epochs=50, verbose=1)"
   ]
  },
  {
   "cell_type": "code",
   "execution_count": 60,
   "metadata": {
    "colab": {
     "base_uri": "https://localhost:8080/",
     "height": 51
    },
    "colab_type": "code",
    "id": "GVoGafM2sN-Q",
    "outputId": "675c216f-1c43-466d-c9fb-82fc0f036ac0"
   },
   "outputs": [
    {
     "name": "stdout",
     "output_type": "stream",
     "text": [
      "10/10 [==============================] - 0s 1ms/step - loss: 108.6004\n"
     ]
    },
    {
     "data": {
      "text/plain": [
       "108.60037231445312"
      ]
     },
     "execution_count": 60,
     "metadata": {
      "tags": []
     },
     "output_type": "execute_result"
    }
   ],
   "source": [
    "# Evaluate the MSE of on the test dataset \n",
    "loss_val = model.evaluate(X_test, y_test)\n",
    "y_pred = model.predict(X_test)\n",
    "loss_val"
   ]
  },
  {
   "cell_type": "code",
   "execution_count": 62,
   "metadata": {
    "colab": {},
    "colab_type": "code",
    "id": "Qz4engco1dL5"
   },
   "outputs": [],
   "source": [
    "from sklearn.metrics import mean_squared_error"
   ]
  },
  {
   "cell_type": "code",
   "execution_count": 63,
   "metadata": {
    "colab": {
     "base_uri": "https://localhost:8080/",
     "height": 34
    },
    "colab_type": "code",
    "id": "JwIr3pdV1Nkh",
    "outputId": "55db6099-69c2-43e1-cb14-7654d5274b11"
   },
   "outputs": [
    {
     "name": "stdout",
     "output_type": "stream",
     "text": [
      "108.60037364423542 0.0\n"
     ]
    }
   ],
   "source": [
    "#No I need to import Scikit-Learns MSE Function\n",
    "mean_square_error = mean_squared_error(y_test, y_pred)\n",
    "mean = np.mean(mean_square_error)\n",
    "standard_deviation = np.std(mean_square_error)\n",
    "print(mean, standard_deviation)"
   ]
  },
  {
   "cell_type": "code",
   "execution_count": 64,
   "metadata": {
    "colab": {
     "base_uri": "https://localhost:8080/",
     "height": 969
    },
    "colab_type": "code",
    "id": "fC3DYaSA1sJ-",
    "outputId": "375cdf33-8bbc-4e4d-ea6d-8d0df2e72fcf"
   },
   "outputs": [
    {
     "name": "stdout",
     "output_type": "stream",
     "text": [
      "MSE 1: 107.94255828857422\n",
      "MSE 2: 121.38338470458984\n",
      "MSE 3: 109.44522094726562\n",
      "MSE 4: 121.0322265625\n",
      "MSE 5: 120.9336929321289\n",
      "MSE 6: 135.96104431152344\n",
      "MSE 7: 145.20620727539062\n",
      "MSE 8: 109.5540771484375\n",
      "MSE 9: 133.94009399414062\n",
      "MSE 10: 110.39655303955078\n",
      "MSE 11: 104.11187744140625\n",
      "MSE 12: 102.01239776611328\n",
      "MSE 13: 114.98575592041016\n",
      "MSE 14: 117.85791015625\n",
      "MSE 15: 114.0312728881836\n",
      "MSE 16: 108.88766479492188\n",
      "MSE 17: 104.36466217041016\n",
      "MSE 18: 96.4006576538086\n",
      "MSE 19: 95.50952911376953\n",
      "MSE 20: 114.17443084716797\n",
      "MSE 21: 112.42493438720703\n",
      "MSE 22: 119.73603057861328\n",
      "MSE 23: 110.52505493164062\n",
      "MSE 24: 105.97367095947266\n",
      "MSE 25: 114.03779602050781\n",
      "MSE 26: 99.36436462402344\n",
      "MSE 27: 120.94388580322266\n",
      "MSE 28: 110.04564666748047\n",
      "MSE 29: 109.56800842285156\n",
      "MSE 30: 112.86940002441406\n",
      "MSE 31: 131.9285125732422\n",
      "MSE 32: 106.14878845214844\n",
      "MSE 33: 101.77233123779297\n",
      "MSE 34: 109.56734466552734\n",
      "MSE 35: 116.36466217041016\n",
      "MSE 36: 126.58296966552734\n",
      "MSE 37: 119.07524108886719\n",
      "MSE 38: 115.05459594726562\n",
      "MSE 39: 112.8134994506836\n",
      "MSE 40: 125.29512786865234\n",
      "MSE 41: 119.1536865234375\n",
      "MSE 42: 116.18292236328125\n",
      "MSE 43: 108.7396469116211\n",
      "MSE 44: 107.50135040283203\n",
      "MSE 45: 114.89828491210938\n",
      "MSE 46: 117.71145629882812\n",
      "MSE 47: 111.92843627929688\n",
      "MSE 48: 114.50151824951172\n",
      "MSE 49: 102.8255615234375\n",
      "MSE 50: 110.87320709228516\n",
      "\n",
      "\n",
      "Below is the mean and standard deviation of 50 mean squared errors without normalized data. Total number of epochs for each training is: 50\n",
      "\n",
      "Mean: 113.85078183030981\n",
      "Standard Deviation: 9.654732224900478\n"
     ]
    }
   ],
   "source": [
    "total_mean_squared_errors = 50\n",
    "epochs = 50\n",
    "mean_squared_errors = []\n",
    "for i in range(0, total_mean_squared_errors):\n",
    "    X_train, X_test, y_train, y_test = train_test_split(predictors, target, test_size=0.3, random_state=i)\n",
    "    model.fit(X_train, y_train, epochs=epochs, verbose=0)\n",
    "    MSE = model.evaluate(X_test, y_test, verbose=0)\n",
    "    print(\"MSE \"+str(i+1)+\": \"+str(MSE))\n",
    "    y_pred = model.predict(X_test)\n",
    "    mean_square_error = mean_squared_error(y_test, y_pred)\n",
    "    mean_squared_errors.append(mean_square_error)\n",
    "\n",
    "mean_squared_errors = np.array(mean_squared_errors)\n",
    "mean = np.mean(mean_squared_errors)\n",
    "standard_deviation = np.std(mean_squared_errors)\n",
    "\n",
    "print('\\n')\n",
    "print(\"Below is the mean and standard deviation of \" +str(total_mean_squared_errors) + \" mean squared errors without normalized data. Total number of epochs for each training is: \" +str(epochs) + \"\\n\")\n",
    "print(\"Mean: \"+str(mean))\n",
    "print(\"Standard Deviation: \"+str(standard_deviation))"
   ]
  },
  {
   "cell_type": "code",
   "execution_count": 65,
   "metadata": {
    "colab": {},
    "colab_type": "code",
    "id": "W1OMOFSP52lY"
   },
   "outputs": [],
   "source": [
    "# just out of curiosity, I wan to allow a user to dinamically input variables incas this model was to ever be used on a dashboard/active user input sitiation\n",
    "new_input = [[1,1,1,1,1,1,1,1]]"
   ]
  },
  {
   "cell_type": "code",
   "execution_count": 67,
   "metadata": {
    "colab": {
     "base_uri": "https://localhost:8080/",
     "height": 34
    },
    "colab_type": "code",
    "id": "HBuarD7s613N",
    "outputId": "b0cd77bb-76e4-4c42-a8a4-06dd602a8b4b"
   },
   "outputs": [
    {
     "data": {
      "text/plain": [
       "array([[0.04669665]], dtype=float32)"
      ]
     },
     "execution_count": 67,
     "metadata": {
      "tags": []
     },
     "output_type": "execute_result"
    }
   ],
   "source": [
    "new_output = model.predict(new_input)\n",
    "new_output\n",
    "#now, a user can input all the key variables of this model and have a predicted strength outputted for them! :) \n"
   ]
  }
 ],
 "metadata": {
  "colab": {
   "name": "Regression NN capstone.ipynb",
   "provenance": []
  },
  "kernelspec": {
   "display_name": "Python 3",
   "language": "python",
   "name": "python3"
  },
  "language_info": {
   "codemirror_mode": {
    "name": "ipython",
    "version": 3
   },
   "file_extension": ".py",
   "mimetype": "text/x-python",
   "name": "python",
   "nbconvert_exporter": "python",
   "pygments_lexer": "ipython3",
   "version": "3.7.7"
  }
 },
 "nbformat": 4,
 "nbformat_minor": 1
}
